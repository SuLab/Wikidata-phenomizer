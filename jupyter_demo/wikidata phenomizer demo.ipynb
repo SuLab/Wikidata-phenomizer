{
 "cells": [
  {
   "cell_type": "markdown",
   "metadata": {},
   "source": [
    "### Wikidata Phenomizer\n",
    "The phenomizer tool takes an ontology file and an association file. We'll use the HPO and the HPO's disease->phenotype association file, but supplemented with Wikidata-derived disease->phenotype associations"
   ]
  },
  {
   "cell_type": "markdown",
   "metadata": {},
   "source": [
    "# setup"
   ]
  },
  {
   "cell_type": "markdown",
   "metadata": {},
   "source": [
    "**The Wikidata-phenomizer repo contains a python script for generating this association file**"
   ]
  },
  {
   "cell_type": "code",
   "execution_count": 1,
   "metadata": {},
   "outputs": [
    {
     "name": "stdout",
     "output_type": "stream",
     "text": [
      "Cloning into 'Wikidata-phenomizer'...\n",
      "remote: Enumerating objects: 16, done.\u001b[K\n",
      "remote: Counting objects: 100% (16/16), done.\u001b[K\n",
      "remote: Compressing objects: 100% (13/13), done.\u001b[K\n",
      "remote: Total 16 (delta 6), reused 7 (delta 2), pack-reused 0\u001b[K\n",
      "Receiving objects: 100% (16/16), 4.61 KiB | 4.61 MiB/s, done.\n",
      "Resolving deltas: 100% (6/6), done.\n"
     ]
    }
   ],
   "source": [
    "!git clone git@github.com:SuLab/Wikidata-phenomizer.git"
   ]
  },
  {
   "cell_type": "code",
   "execution_count": 7,
   "metadata": {},
   "outputs": [],
   "source": [
    "import os\n",
    "os.chdir(\"Wikidata-phenomizer/\")"
   ]
  },
  {
   "cell_type": "code",
   "execution_count": 8,
   "metadata": {},
   "outputs": [
    {
     "name": "stdout",
     "output_type": "stream",
     "text": [
      "--2018-12-27 12:37:21--  http://compbio.charite.de/jenkins/job/hpo.annotations/lastStableBuild/artifact/misc/phenotype_annotation.tab\n",
      "Resolving compbio.charite.de (compbio.charite.de)... 141.42.207.15\n",
      "Connecting to compbio.charite.de (compbio.charite.de)|141.42.207.15|:80... connected.\n",
      "HTTP request sent, awaiting response... 304 Not Modified\n",
      "File ‘phenotype_annotation.tab’ not modified on server. Omitting download.\n",
      "\n"
     ]
    }
   ],
   "source": [
    "!wget -N http://compbio.charite.de/jenkins/job/hpo.annotations/lastStableBuild/artifact/misc/phenotype_annotation.tab"
   ]
  },
  {
   "cell_type": "code",
   "execution_count": 12,
   "metadata": {},
   "outputs": [
    {
     "name": "stdout",
     "output_type": "stream",
     "text": [
      "/home/gstupp/projects/phenomizer/jupyter_demo/venv/lib/python3.5/site-packages/pandas/core/frame.py:6211: FutureWarning: Sorting because non-concatenation axis is not aligned. A future version\n",
      "of pandas will change to not sort by default.\n",
      "\n",
      "To accept the future behavior, pass 'sort=False'.\n",
      "\n",
      "To retain the current behavior and silence the warning, pass 'sort=True'.\n",
      "\n",
      "  sort=sort)\n",
      "number of hpo annotations: 159162\n",
      "number of wikidata annotations: 472\n",
      "number overlap annotations: 307\n",
      "\n",
      "top unique disease-phenotypes in wd:\n",
      "NGLY1-deficiency              71\n",
      "Colchicine poisoning          20\n",
      "Mercury poisoning             16\n",
      "lead poisoning                14\n",
      "toxocariasis                   8\n",
      "Q fever                        8\n",
      "hymenolepiasis                 7\n",
      "tick-borne encephalitis        7\n",
      "acute lymphocytic leukemia     6\n",
      "Japanese encephalitis          6\n",
      "Name: DB_Name, dtype: int64\n"
     ]
    }
   ],
   "source": [
    "!python phenomizer.py"
   ]
  },
  {
   "cell_type": "markdown",
   "metadata": {},
   "source": [
    "**The Boqa repo contains the Java tool for running Phenomizer**"
   ]
  },
  {
   "cell_type": "code",
   "execution_count": 13,
   "metadata": {},
   "outputs": [
    {
     "name": "stdout",
     "output_type": "stream",
     "text": [
      "Cloning into 'boqa'...\n",
      "remote: Enumerating objects: 38, done.\u001b[K\n",
      "remote: Counting objects: 100% (38/38), done.\u001b[K\n",
      "remote: Compressing objects: 100% (31/31), done.\u001b[K\n",
      "remote: Total 403 (delta 8), reused 26 (delta 3), pack-reused 365\u001b[K\n",
      "Receiving objects: 100% (403/403), 3.22 MiB | 3.04 MiB/s, done.\n",
      "Resolving deltas: 100% (144/144), done.\n"
     ]
    }
   ],
   "source": [
    "os.chdir(\"..\")\n",
    "!git clone git@github.com:SuLab/boqa.git"
   ]
  },
  {
   "cell_type": "code",
   "execution_count": 14,
   "metadata": {},
   "outputs": [],
   "source": [
    "os.chdir(\"boqa/\")"
   ]
  },
  {
   "cell_type": "code",
   "execution_count": 15,
   "metadata": {},
   "outputs": [
    {
     "name": "stdout",
     "output_type": "stream",
     "text": [
      "--2018-12-27 12:41:44--  http://purl.obolibrary.org/obo/hp.obo\n",
      "Resolving purl.obolibrary.org (purl.obolibrary.org)... 52.3.123.63\n",
      "Connecting to purl.obolibrary.org (purl.obolibrary.org)|52.3.123.63|:80... connected.\n",
      "HTTP request sent, awaiting response... 302 Found\n",
      "Location: https://raw.githubusercontent.com/obophenotype/human-phenotype-ontology/master/hp.obo [following]\n",
      "--2018-12-27 12:41:47--  https://raw.githubusercontent.com/obophenotype/human-phenotype-ontology/master/hp.obo\n",
      "Resolving raw.githubusercontent.com (raw.githubusercontent.com)... 151.101.24.133\n",
      "Connecting to raw.githubusercontent.com (raw.githubusercontent.com)|151.101.24.133|:443... connected.\n",
      "HTTP request sent, awaiting response... 200 OK\n",
      "Length: 6296236 (6.0M) [text/plain]\n",
      "Saving to: ‘hp.obo’\n",
      "\n",
      "hp.obo              100%[===================>]   6.00M  3.58MB/s    in 1.7s    \n",
      "\n",
      "Last-modified header missing -- time-stamps turned off.\n",
      "2018-12-27 12:41:53 (3.58 MB/s) - ‘hp.obo’ saved [6296236/6296236]\n",
      "\n"
     ]
    }
   ],
   "source": [
    "!wget -N http://purl.obolibrary.org/obo/hp.obo"
   ]
  },
  {
   "cell_type": "code",
   "execution_count": 20,
   "metadata": {},
   "outputs": [],
   "source": [
    "hpo_ids = \"HP:0001263,HP:0001252,HP:0000522,HP:0012804,HP:0000559,HP:0011968,HP:0009830,HP:0001265,HP:0002167,HP:0000970,HP:0040129\"\n",
    "ass_file = \"../Wikidata-phenomizer/phenotype_annotation_wd.tab\""
   ]
  },
  {
   "cell_type": "code",
   "execution_count": 21,
   "metadata": {},
   "outputs": [
    {
     "name": "stdout",
     "output_type": "stream",
     "text": [
      "init new BoqaService\n",
      "Dec 27, 2018 12:44:48 PM sonumina.boqa.server.BOQACore <init>\n",
      "INFO: Starting sonumina.boqa.server.BOQACore\n",
      "Dec 27, 2018 12:44:48 PM ontologizer.go.OBOParser doParse\n",
      "INFO: Got 14090 terms and 17755 relations in 127 ms\n",
      "Dec 27, 2018 12:44:48 PM sonumina.boqa.server.BOQACore <init>\n",
      "INFO: OBO file \"hp.obo\" parsed\n",
      "Dec 27, 2018 12:44:49 PM ontologizer.go.Ontology assignLevel1TermsAndFixRoot\n",
      "INFO: Ontology contains a single level-one term (All (HP:0000001)\n",
      "Dec 27, 2018 12:44:49 PM sonumina.boqa.server.BOQACore <init>\n",
      "INFO: Ontology graph with 14090 terms created\n",
      "Dec 27, 2018 12:44:49 PM ontologizer.association.PafLineScanner processParsedAssociation\n",
      "WARNING: PafLineScanner: Line 159532: Expected that dbObject \"ORPHA:244305\" maps to symbol \"hypophosphatemic nephrolithiasis/osteoporosis 1 (ORPHA:244305)\" but it maps to \"hypophosphatemic nephrolithiasis/osteoporosis 2 (ORPHA:244305)\"\n",
      "Skipping association of item \"NGLY1-deficiency (ORPHA:404454)\" to HP:0008051 because term is obsolete!\n",
      "(Are the obo file and the association file in sync?)\n",
      "Dec 27, 2018 12:44:49 PM ontologizer.association.AssociationParser importAssociationFileFromPaf\n",
      "INFO: 159978 associations parsed, 159977 of which were kept while 0 malformed lines had to be ignored.\n",
      "Dec 27, 2018 12:44:49 PM ontologizer.association.AssociationParser importAssociationFileFromPaf\n",
      "INFO: A further 1 associations were skipped due to various reasons whereas 0 of those where explicitly qualified with NOT, 1 referred to obsolete terms and 0 didn't match the requested evidence codes\n",
      "Dec 27, 2018 12:44:49 PM ontologizer.association.AssociationParser importAssociationFileFromPaf\n",
      "INFO: PAF-parse: A total of 8278 terms are directly associated to 10859 items.\n",
      "Dec 27, 2018 12:44:49 PM sonumina.boqa.server.BOQACore <init>\n",
      "INFO: Got ontology and associations in 0.83 seconds\n",
      "Dec 27, 2018 12:44:49 PM sonumina.boqa.server.BOQACore init\n",
      "INFO: Setting up BOQA\n",
      "Dec 27, 2018 12:44:49 PM sonumina.boqa.calculation.BOQA provideGlobals\n",
      "INFO: 10860 items shall be considered\n",
      "Dec 27, 2018 12:44:49 PM sonumina.boqa.calculation.BOQA provideGlobals\n",
      "INFO: Available evidences: PCS->7312,IEA->46892,TAS->105325,ICE->10,\n",
      "Dec 27, 2018 12:44:50 PM sonumina.boqa.calculation.BOQA provideGlobals\n",
      "INFO: 10860 items passed criterias (supplied evidence codes)\n",
      "Dec 27, 2018 12:44:50 PM sonumina.boqa.calculation.DiffVectors initDiffVectors\n",
      "INFO: Determining differences\n",
      "1200054 differences detected (110.50220994475139 per item)\n",
      "Dec 27, 2018 12:44:50 PM sonumina.boqa.calculation.DiffVectors initDiffVectors\n",
      "INFO: Determining differences with frequencies for maximal 5 terms\n",
      "Dec 27, 2018 12:44:52 PM sonumina.boqa.calculation.DiffVectors initDiffVectors\n",
      "INFO: Done with differences!\n",
      "Dec 27, 2018 12:44:52 PM sonumina.boqa.server.BOQACore init\n",
      "INFO: Sort terms\n",
      "Dec 27, 2018 12:44:53 PM sonumina.boqa.server.BOQACore <init>\n",
      "INFO: Starting sonumina.boqa.server.BOQACore\n",
      "Dec 27, 2018 12:44:53 PM ontologizer.go.OBOParser doParse\n",
      "INFO: Got 14090 terms and 17755 relations in 85 ms\n",
      "Dec 27, 2018 12:44:53 PM sonumina.boqa.server.BOQACore <init>\n",
      "INFO: OBO file \"hp.obo\" parsed\n",
      "Dec 27, 2018 12:44:53 PM ontologizer.go.Ontology assignLevel1TermsAndFixRoot\n",
      "INFO: Ontology contains a single level-one term (All (HP:0000001)\n",
      "Dec 27, 2018 12:44:53 PM sonumina.boqa.server.BOQACore <init>\n",
      "INFO: Ontology graph with 14090 terms created\n",
      "Dec 27, 2018 12:44:54 PM ontologizer.association.PafLineScanner processParsedAssociation\n",
      "WARNING: PafLineScanner: Line 159532: Expected that dbObject \"ORPHA:244305\" maps to symbol \"hypophosphatemic nephrolithiasis/osteoporosis 1 (ORPHA:244305)\" but it maps to \"hypophosphatemic nephrolithiasis/osteoporosis 2 (ORPHA:244305)\"\n",
      "Skipping association of item \"NGLY1-deficiency (ORPHA:404454)\" to HP:0008051 because term is obsolete!\n",
      "(Are the obo file and the association file in sync?)\n",
      "Dec 27, 2018 12:44:54 PM ontologizer.association.AssociationParser importAssociationFileFromPaf\n",
      "INFO: 159978 associations parsed, 159977 of which were kept while 0 malformed lines had to be ignored.\n",
      "Dec 27, 2018 12:44:54 PM ontologizer.association.AssociationParser importAssociationFileFromPaf\n",
      "INFO: A further 1 associations were skipped due to various reasons whereas 0 of those where explicitly qualified with NOT, 1 referred to obsolete terms and 0 didn't match the requested evidence codes\n",
      "Dec 27, 2018 12:44:54 PM ontologizer.association.AssociationParser importAssociationFileFromPaf\n",
      "INFO: PAF-parse: A total of 8278 terms are directly associated to 10859 items.\n",
      "Dec 27, 2018 12:44:54 PM sonumina.boqa.server.BOQACore <init>\n",
      "INFO: Got ontology and associations in 0.619 seconds\n",
      "Dec 27, 2018 12:44:54 PM sonumina.boqa.server.BOQACore init\n",
      "INFO: Setting up BOQA\n",
      "Dec 27, 2018 12:44:54 PM sonumina.boqa.calculation.BOQA provideGlobals\n",
      "INFO: 10860 items shall be considered\n",
      "Dec 27, 2018 12:44:54 PM sonumina.boqa.calculation.BOQA provideGlobals\n",
      "INFO: Available evidences: PCS->7312,IEA->46892,TAS->105325,ICE->10,\n",
      "Dec 27, 2018 12:44:54 PM sonumina.boqa.calculation.BOQA provideGlobals\n",
      "INFO: 10860 items passed criterias (supplied evidence codes)\n",
      "Dec 27, 2018 12:44:55 PM sonumina.boqa.calculation.DiffVectors initDiffVectors\n",
      "INFO: Determining differences\n",
      "1200054 differences detected (110.50220994475139 per item)\n",
      "Dec 27, 2018 12:44:55 PM sonumina.boqa.calculation.DiffVectors initDiffVectors\n",
      "INFO: Determining differences with frequencies for maximal 5 terms\n",
      "Dec 27, 2018 12:44:57 PM sonumina.boqa.calculation.DiffVectors initDiffVectors\n",
      "INFO: Done with differences!\n",
      "Dec 27, 2018 12:44:57 PM sonumina.boqa.server.BOQACore init\n",
      "INFO: Sort terms\n",
      "itemName|score\n",
      "CONE-ROD DYSTROPHY, X-LINKED, 1 (OMIM:304020)|0.5618521679105415\n",
      "CONGENITAL DISORDER OF DEGLYCOSYLATION; CDDG (OMIM:615273)|0.32472793279466233\n",
      "NGLY1-deficiency (ORPHA:404454)|0.07001706350516379\n",
      "Cyclic neutropenia (ORPHA:2686)|0.020875879762404497\n",
      "NEUROPATHY, HEREDITARY SENSORY AND AUTONOMIC, TYPE II (OMIM:201300)|0.009914522181086032\n",
      "METACHROMATIC LEUKODYSTROPHY DUE TO SAPOSIN B DEFICIENCY (OMIM:249900)|0.0046590651687770665\n",
      "YUAN-HAREL-LUPSKI SYNDROME; YUHAL (OMIM:616652)|0.0025038227609720147\n",
      "MITOCHONDRIAL DNA DEPLETION SYNDROME 14 (OMIM:616896)|0.0017445706391903551\n",
      "severe acute respiratory syndrome (ORPHA:140896)|8.395633227508864E-4\n",
      "CHROMOSOME 3pter-p25 DELETION SYNDROME (OMIM:613792)|6.124569153543484E-4\n"
     ]
    }
   ],
   "source": [
    "!java -jar target/boqa-0.0.3-SNAPSHOT.jar -hpo {hpo_ids} -obo hp.obo -af {ass_file}"
   ]
  }
 ],
 "metadata": {
  "kernelspec": {
   "display_name": "Python 3",
   "language": "python",
   "name": "python3"
  },
  "language_info": {
   "codemirror_mode": {
    "name": "ipython",
    "version": 3
   },
   "file_extension": ".py",
   "mimetype": "text/x-python",
   "name": "python",
   "nbconvert_exporter": "python",
   "pygments_lexer": "ipython3",
   "version": "3.5.2"
  }
 },
 "nbformat": 4,
 "nbformat_minor": 2
}
